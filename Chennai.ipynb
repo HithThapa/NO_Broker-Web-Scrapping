{
 "cells": [
  {
   "cell_type": "code",
   "execution_count": 1,
   "id": "cebf4adb",
   "metadata": {},
   "outputs": [],
   "source": [
    "import requests\n",
    "from bs4 import BeautifulSoup\n",
    "import pandas as pd\n",
    "import numpy as np"
   ]
  },
  {
   "cell_type": "code",
   "execution_count": 2,
   "id": "ad7043ff",
   "metadata": {},
   "outputs": [],
   "source": [
    "Chennai=['velachery_chennai','thiruvanmiyur_chennai','madipakkam_chennai',\n",
    "        'thoraipakkam_chennai','sholinganallur_chennai','medavakkam_chennai','mylapore_chennai',\n",
    "        'adyar_chennai','t_nagar_chennai','perungudi_chennai']"
   ]
  },
  {
   "cell_type": "code",
   "execution_count": 3,
   "id": "77a9cd8f",
   "metadata": {},
   "outputs": [],
   "source": [
    "url=[]\n",
    "for i in Chennai:\n",
    "    url.append('https://www.nobroker.in/flats-for-sale-in-'+i)"
   ]
  },
  {
   "cell_type": "code",
   "execution_count": 4,
   "id": "78a004dc",
   "metadata": {},
   "outputs": [],
   "source": [
    "Gname=[]\n",
    "Grate=[]\n",
    "Gemi=[]\n",
    "Garea=[]\n",
    "Glocation=[]\n",
    "for i in range(len(url)):\n",
    "    data=requests.get(url[i])\n",
    "    soup=BeautifulSoup(data.text,'html.parser')\n",
    "    locname=soup.find_all('a',class_='overflow-hidden overflow-ellipsis whitespace-nowrap max-w-80pe po:max-w-full')#name\n",
    "    locrate=soup.find_all('div','font-semi-bold heading-6')#rate\n",
    "    #Name\n",
    "    Name=[]                       \n",
    "    for j in locname:\n",
    "        Name.append(j.text)      \n",
    "    Gname.append(Name)\n",
    "    #Rate\n",
    "    rate=[]\n",
    "    lorate=[]\n",
    "    for j in locrate:\n",
    "        rate.append(j.text)\n",
    "    for j in range(0,len(rate),3):\n",
    "        lorate.append(rate[j])\n",
    "    Grate.append(lorate)\n",
    "    #EMI\n",
    "    EMI=[]\n",
    "    for j in range(1,len(rate),3):\n",
    "        EMI.append(rate[j])\n",
    "    Gemi.append(EMI)\n",
    "    #Area\n",
    "    area=[]\n",
    "    for j in range(2,len(rate),3):\n",
    "        area.append(rate[j])\n",
    "    Garea.append(area)\n",
    "    #Location\n",
    "    location=[]\n",
    "    for j in range(len(Name)):\n",
    "        location.append(Chennai[i])\n",
    "    Glocation.append(location)\n",
    "# len(Gname)\n",
    "# len(Grate)\n",
    "# len(Gemi)\n",
    "# len(Garea)"
   ]
  },
  {
   "cell_type": "code",
   "execution_count": 5,
   "id": "2f2801a6",
   "metadata": {},
   "outputs": [],
   "source": [
    "#BHK\n",
    "Flat_Type=[]\n",
    "for i in Gname:\n",
    "    for j in i:\n",
    "        Flat_Type.append(j)\n",
    "# print(Flat_Type)\n",
    "# Price\n",
    "Price=[]\n",
    "for i in Grate:\n",
    "    for j in i:\n",
    "        Price.append(j)\n",
    "# print(Price)\n",
    "# EMI\n",
    "Monthly_Installment=[]\n",
    "for i in Gemi:\n",
    "    for j in i:\n",
    "        Monthly_Installment.append(j)\n",
    "# print(Monthly_Installment)\n",
    "# Area\n",
    "Build_Area=[]\n",
    "for i in Garea:\n",
    "    for j in i:\n",
    "        Build_Area.append(j)\n",
    "# print(Build_Area)\n",
    "#Location\n",
    "Loc=[]\n",
    "for i in Glocation:\n",
    "    for j in i:\n",
    "        Loc.append(j)\n",
    "        "
   ]
  },
  {
   "cell_type": "code",
   "execution_count": 6,
   "id": "0ba08319",
   "metadata": {},
   "outputs": [],
   "source": [
    "df=pd.DataFrame({'Location':Loc,'Flat Type':Flat_Type,'Price':Price,'EMI':Monthly_Installment,'Area':Build_Area})"
   ]
  },
  {
   "cell_type": "code",
   "execution_count": 7,
   "id": "cd375c21",
   "metadata": {},
   "outputs": [
    {
     "data": {
      "text/html": [
       "<div>\n",
       "<style scoped>\n",
       "    .dataframe tbody tr th:only-of-type {\n",
       "        vertical-align: middle;\n",
       "    }\n",
       "\n",
       "    .dataframe tbody tr th {\n",
       "        vertical-align: top;\n",
       "    }\n",
       "\n",
       "    .dataframe thead th {\n",
       "        text-align: right;\n",
       "    }\n",
       "</style>\n",
       "<table border=\"1\" class=\"dataframe\">\n",
       "  <thead>\n",
       "    <tr style=\"text-align: right;\">\n",
       "      <th></th>\n",
       "      <th>Location</th>\n",
       "      <th>Flat Type</th>\n",
       "      <th>Price</th>\n",
       "      <th>EMI</th>\n",
       "      <th>Area</th>\n",
       "    </tr>\n",
       "  </thead>\n",
       "  <tbody>\n",
       "    <tr>\n",
       "      <th>0</th>\n",
       "      <td>velachery_chennai</td>\n",
       "      <td>2 BHK Apartment  In Tvh Mahanya For Sale  In V...</td>\n",
       "      <td>â¹96 Lacs</td>\n",
       "      <td>â¹55,021/Month</td>\n",
       "      <td>965 sqft</td>\n",
       "    </tr>\n",
       "    <tr>\n",
       "      <th>1</th>\n",
       "      <td>velachery_chennai</td>\n",
       "      <td>2 BHK Flat  In Karpaga Illam For Sale  In Vela...</td>\n",
       "      <td>â¹86 Lacs</td>\n",
       "      <td>â¹49,290/Month</td>\n",
       "      <td>956 sqft</td>\n",
       "    </tr>\n",
       "    <tr>\n",
       "      <th>2</th>\n",
       "      <td>velachery_chennai</td>\n",
       "      <td>3 BHK Flat  In Prabhu Flats For Sale  In Velac...</td>\n",
       "      <td>â¹1.05 Crores</td>\n",
       "      <td>â¹60,180/Month</td>\n",
       "      <td>1,160 sqft</td>\n",
       "    </tr>\n",
       "    <tr>\n",
       "      <th>3</th>\n",
       "      <td>velachery_chennai</td>\n",
       "      <td>3 BHK Flat  In R S Florentine For Sale  In Vel...</td>\n",
       "      <td>â¹92 Lacs</td>\n",
       "      <td>â¹52,729/Month</td>\n",
       "      <td>1,350 sqft</td>\n",
       "    </tr>\n",
       "    <tr>\n",
       "      <th>4</th>\n",
       "      <td>velachery_chennai</td>\n",
       "      <td>1 BHK Flat  In Orient Raghavendra For Sale  In...</td>\n",
       "      <td>â¹33.5 Lacs</td>\n",
       "      <td>â¹19,200/Month</td>\n",
       "      <td>510 sqft</td>\n",
       "    </tr>\n",
       "    <tr>\n",
       "      <th>...</th>\n",
       "      <td>...</td>\n",
       "      <td>...</td>\n",
       "      <td>...</td>\n",
       "      <td>...</td>\n",
       "      <td>...</td>\n",
       "    </tr>\n",
       "    <tr>\n",
       "      <th>245</th>\n",
       "      <td>perungudi_chennai</td>\n",
       "      <td>3 BHK Flat  In Shriram Bharath  Promoters For ...</td>\n",
       "      <td>â¹65 Lacs</td>\n",
       "      <td>â¹37,254/Month</td>\n",
       "      <td>970 sqft</td>\n",
       "    </tr>\n",
       "    <tr>\n",
       "      <th>246</th>\n",
       "      <td>perungudi_chennai</td>\n",
       "      <td>2 BHK Flat  In Rose Dale For Sale  In Sri Sai ...</td>\n",
       "      <td>â¹54 Lacs</td>\n",
       "      <td>â¹30,949/Month</td>\n",
       "      <td>852 sqft</td>\n",
       "    </tr>\n",
       "    <tr>\n",
       "      <th>247</th>\n",
       "      <td>perungudi_chennai</td>\n",
       "      <td>2 BHK Flat  In Residency Raj Residency For Sal...</td>\n",
       "      <td>â¹1.25 Crores</td>\n",
       "      <td>â¹71,643/Month</td>\n",
       "      <td>1,100 sqft</td>\n",
       "    </tr>\n",
       "    <tr>\n",
       "      <th>248</th>\n",
       "      <td>perungudi_chennai</td>\n",
       "      <td>2 BHK Apartment  In Falling Waters For Sale  I...</td>\n",
       "      <td>â¹1.36 Crores</td>\n",
       "      <td>â¹77,947/Month</td>\n",
       "      <td>1,434 sqft</td>\n",
       "    </tr>\n",
       "    <tr>\n",
       "      <th>249</th>\n",
       "      <td>perungudi_chennai</td>\n",
       "      <td>3 BHK Apartment  In Kriyas Sai Sudha For Sale ...</td>\n",
       "      <td>â¹1.1 Crores</td>\n",
       "      <td>â¹63,045/Month</td>\n",
       "      <td>1,585 sqft</td>\n",
       "    </tr>\n",
       "  </tbody>\n",
       "</table>\n",
       "<p>250 rows × 5 columns</p>\n",
       "</div>"
      ],
      "text/plain": [
       "              Location                                          Flat Type  \\\n",
       "0    velachery_chennai  2 BHK Apartment  In Tvh Mahanya For Sale  In V...   \n",
       "1    velachery_chennai  2 BHK Flat  In Karpaga Illam For Sale  In Vela...   \n",
       "2    velachery_chennai  3 BHK Flat  In Prabhu Flats For Sale  In Velac...   \n",
       "3    velachery_chennai  3 BHK Flat  In R S Florentine For Sale  In Vel...   \n",
       "4    velachery_chennai  1 BHK Flat  In Orient Raghavendra For Sale  In...   \n",
       "..                 ...                                                ...   \n",
       "245  perungudi_chennai  3 BHK Flat  In Shriram Bharath  Promoters For ...   \n",
       "246  perungudi_chennai  2 BHK Flat  In Rose Dale For Sale  In Sri Sai ...   \n",
       "247  perungudi_chennai  2 BHK Flat  In Residency Raj Residency For Sal...   \n",
       "248  perungudi_chennai  2 BHK Apartment  In Falling Waters For Sale  I...   \n",
       "249  perungudi_chennai  3 BHK Apartment  In Kriyas Sai Sudha For Sale ...   \n",
       "\n",
       "              Price              EMI        Area  \n",
       "0        â¹96 Lacs  â¹55,021/Month    965 sqft  \n",
       "1        â¹86 Lacs  â¹49,290/Month    956 sqft  \n",
       "2    â¹1.05 Crores  â¹60,180/Month  1,160 sqft  \n",
       "3        â¹92 Lacs  â¹52,729/Month  1,350 sqft  \n",
       "4      â¹33.5 Lacs  â¹19,200/Month    510 sqft  \n",
       "..              ...              ...         ...  \n",
       "245      â¹65 Lacs  â¹37,254/Month    970 sqft  \n",
       "246      â¹54 Lacs  â¹30,949/Month    852 sqft  \n",
       "247  â¹1.25 Crores  â¹71,643/Month  1,100 sqft  \n",
       "248  â¹1.36 Crores  â¹77,947/Month  1,434 sqft  \n",
       "249   â¹1.1 Crores  â¹63,045/Month  1,585 sqft  \n",
       "\n",
       "[250 rows x 5 columns]"
      ]
     },
     "execution_count": 7,
     "metadata": {},
     "output_type": "execute_result"
    }
   ],
   "source": [
    "df"
   ]
  },
  {
   "cell_type": "code",
   "execution_count": 8,
   "id": "03f37192",
   "metadata": {},
   "outputs": [],
   "source": [
    "BHK=[]\n",
    "for i in Flat_Type:\n",
    "    BHK.append(i[0:5])\n",
    "# print(BHK)\n",
    "# len(BHK)"
   ]
  },
  {
   "cell_type": "code",
   "execution_count": 9,
   "id": "061c2941",
   "metadata": {},
   "outputs": [],
   "source": [
    "df['BHK']=BHK"
   ]
  },
  {
   "cell_type": "code",
   "execution_count": 10,
   "id": "75d68d82",
   "metadata": {},
   "outputs": [],
   "source": [
    "newdf=df.copy()"
   ]
  },
  {
   "cell_type": "code",
   "execution_count": 11,
   "id": "c11d9090",
   "metadata": {},
   "outputs": [],
   "source": [
    "df_Final=newdf[(newdf['BHK']=='2 BHK') | (newdf['BHK']=='3 BHK')]\n"
   ]
  },
  {
   "cell_type": "code",
   "execution_count": 12,
   "id": "736c9570",
   "metadata": {},
   "outputs": [],
   "source": [
    "df_Final.set_index(np.arange(1,219),inplace=True)"
   ]
  },
  {
   "cell_type": "code",
   "execution_count": 13,
   "id": "a3574807",
   "metadata": {},
   "outputs": [],
   "source": [
    "df_Final.drop('BHK',axis=1,inplace=True)"
   ]
  },
  {
   "cell_type": "code",
   "execution_count": 14,
   "id": "465c7e95",
   "metadata": {},
   "outputs": [],
   "source": [
    "df_Final"
   ]
  },
  {
   "cell_type": "code",
   "execution_count": 15,
   "id": "4a8a0b84",
   "metadata": {},
   "outputs": [],
   "source": [
    "df_Final.to_excel('Chennai.xlsx')"
   ]
  },
  {
   "cell_type": "code",
   "execution_count": 16,
   "id": "10a359bb",
   "metadata": {},
   "outputs": [],
   "source": [
    "df.to_excel(\"chennaiDataAnalysis.xlsx\")"
   ]
  },
  {
   "cell_type": "code",
   "execution_count": 8,
   "id": "1a84729a",
   "metadata": {},
   "outputs": [],
   "source": [
    "df.to_excel('Chennaiwithloc.xlsx')"
   ]
  },
  {
   "cell_type": "code",
   "execution_count": null,
   "id": "3d21d040",
   "metadata": {},
   "outputs": [],
   "source": []
  }
 ],
 "metadata": {
  "kernelspec": {
   "display_name": "Python 3 (ipykernel)",
   "language": "python",
   "name": "python3"
  },
  "language_info": {
   "codemirror_mode": {
    "name": "ipython",
    "version": 3
   },
   "file_extension": ".py",
   "mimetype": "text/x-python",
   "name": "python",
   "nbconvert_exporter": "python",
   "pygments_lexer": "ipython3",
   "version": "3.11.1"
  }
 },
 "nbformat": 4,
 "nbformat_minor": 5
}
