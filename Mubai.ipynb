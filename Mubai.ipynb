{
 "cells": [
  {
   "cell_type": "code",
   "execution_count": 1,
   "id": "ae061220",
   "metadata": {},
   "outputs": [],
   "source": [
    "import requests\n",
    "from bs4 import BeautifulSoup\n",
    "import pandas as pd\n",
    "import numpy as np"
   ]
  },
  {
   "cell_type": "code",
   "execution_count": 2,
   "id": "206677c3",
   "metadata": {},
   "outputs": [],
   "source": [
    "mumbai=['andheri_west_mumbai','andheri_east_mumbai','malad_west_mumbai',\n",
    "        'navi_mumbai_mumbai','powai_mumbai','thane_west_mumbai','mira_road_east_mumbai',\n",
    "        'kharghar_mumbai','kandivali_east_mumbai','bandra_mumbai']"
   ]
  },
  {
   "cell_type": "code",
   "execution_count": 3,
   "id": "cccdf423",
   "metadata": {},
   "outputs": [],
   "source": [
    "url=[]\n",
    "for i in mumbai:\n",
    "    url.append('https://www.nobroker.in/flats-for-sale-in-'+i)"
   ]
  },
  {
   "cell_type": "code",
   "execution_count": 4,
   "id": "8b78d6a4",
   "metadata": {},
   "outputs": [],
   "source": [
    "Gname=[]\n",
    "Grate=[]\n",
    "Gemi=[]\n",
    "Garea=[]\n",
    "Glocation=[]\n",
    "for i in range(len(url)):\n",
    "    data=requests.get(url[i])\n",
    "    soup=BeautifulSoup(data.text,'html.parser')\n",
    "    locname=soup.find_all('a',class_='overflow-hidden overflow-ellipsis whitespace-nowrap max-w-80pe po:max-w-full')#name\n",
    "    locrate=soup.find_all('div','font-semi-bold heading-6')#rate\n",
    "    #Name\n",
    "    Name=[]                       \n",
    "    for j in locname:\n",
    "        Name.append(j.text)      \n",
    "    Gname.append(Name)\n",
    "    #Rate\n",
    "    rate=[]\n",
    "    lorate=[]\n",
    "    for j in locrate:\n",
    "        rate.append(j.text)\n",
    "    for j in range(0,len(rate),3):\n",
    "        lorate.append(rate[j])\n",
    "    Grate.append(lorate)\n",
    "    #EMI\n",
    "    EMI=[]\n",
    "    for j in range(1,len(rate),3):\n",
    "        EMI.append(rate[j])\n",
    "    Gemi.append(EMI)\n",
    "    #Area\n",
    "    area=[]\n",
    "    for j in range(2,len(rate),3):\n",
    "        area.append(rate[j])\n",
    "    Garea.append(area)\n",
    "    #Location\n",
    "    location=[]\n",
    "    for j in range(len(Name)):\n",
    "        location.append(mumbai[i])\n",
    "    Glocation.append(location)\n",
    "# len(Gname)\n",
    "# len(Grate)\n",
    "# len(Gemi)\n",
    "# len(Garea)"
   ]
  },
  {
   "cell_type": "code",
   "execution_count": 5,
   "id": "1ae34b96",
   "metadata": {},
   "outputs": [],
   "source": [
    "#BHK\n",
    "Flat_Type=[]\n",
    "for i in Gname:\n",
    "    for j in i:\n",
    "        Flat_Type.append(j)\n",
    "# print(Flat_Type)\n",
    "# Price\n",
    "Price=[]\n",
    "for i in Grate:\n",
    "    for j in i:\n",
    "        Price.append(j)\n",
    "# print(Price)\n",
    "# EMI\n",
    "Monthly_Installment=[]\n",
    "for i in Gemi:\n",
    "    for j in i:\n",
    "        Monthly_Installment.append(j)\n",
    "# print(Monthly_Installment)\n",
    "# Area\n",
    "Build_Area=[]\n",
    "for i in Garea:\n",
    "    for j in i:\n",
    "        Build_Area.append(j)\n",
    "# print(Build_Area)\n",
    "#Location\n",
    "Loc=[]\n",
    "for i in Glocation:\n",
    "    for j in i:\n",
    "        Loc.append(j)\n",
    "        "
   ]
  },
  {
   "cell_type": "code",
   "execution_count": 6,
   "id": "df96ddc3",
   "metadata": {},
   "outputs": [],
   "source": [
    "df=pd.DataFrame({'Location':Loc,'Flat Type':Flat_Type,'Price':Price,'EMI':Monthly_Installment,'Area':Build_Area})"
   ]
  },
  {
   "cell_type": "code",
   "execution_count": 7,
   "id": "c70e92fe",
   "metadata": {},
   "outputs": [
    {
     "data": {
      "text/html": [
       "<div>\n",
       "<style scoped>\n",
       "    .dataframe tbody tr th:only-of-type {\n",
       "        vertical-align: middle;\n",
       "    }\n",
       "\n",
       "    .dataframe tbody tr th {\n",
       "        vertical-align: top;\n",
       "    }\n",
       "\n",
       "    .dataframe thead th {\n",
       "        text-align: right;\n",
       "    }\n",
       "</style>\n",
       "<table border=\"1\" class=\"dataframe\">\n",
       "  <thead>\n",
       "    <tr style=\"text-align: right;\">\n",
       "      <th></th>\n",
       "      <th>Location</th>\n",
       "      <th>Flat Type</th>\n",
       "      <th>Price</th>\n",
       "      <th>EMI</th>\n",
       "      <th>Area</th>\n",
       "    </tr>\n",
       "  </thead>\n",
       "  <tbody>\n",
       "    <tr>\n",
       "      <th>0</th>\n",
       "      <td>andheri_west_mumbai</td>\n",
       "      <td>3 BHK Apartment  In Royal Resort Tower For Sal...</td>\n",
       "      <td>â¹4.1 Crores</td>\n",
       "      <td>â¹2.35 Lacs/Month</td>\n",
       "      <td>1,305 sqft</td>\n",
       "    </tr>\n",
       "    <tr>\n",
       "      <th>1</th>\n",
       "      <td>andheri_west_mumbai</td>\n",
       "      <td>3 BHK Apartment  In Lashkaria Green Heights  F...</td>\n",
       "      <td>â¹3 Crores</td>\n",
       "      <td>â¹1.72 Lacs/Month</td>\n",
       "      <td>1,600 sqft</td>\n",
       "    </tr>\n",
       "    <tr>\n",
       "      <th>2</th>\n",
       "      <td>andheri_west_mumbai</td>\n",
       "      <td>2 BHK Flat  In Guinea Paradise For Sale  In An...</td>\n",
       "      <td>â¹2.5 Crores</td>\n",
       "      <td>â¹1.43 Lacs/Month</td>\n",
       "      <td>800 sqft</td>\n",
       "    </tr>\n",
       "    <tr>\n",
       "      <th>3</th>\n",
       "      <td>andheri_west_mumbai</td>\n",
       "      <td>3 BHK Apartment  In Indra Darshan For Sale  In...</td>\n",
       "      <td>â¹3.75 Crores</td>\n",
       "      <td>â¹2.15 Lacs/Month</td>\n",
       "      <td>1,440 sqft</td>\n",
       "    </tr>\n",
       "    <tr>\n",
       "      <th>4</th>\n",
       "      <td>andheri_west_mumbai</td>\n",
       "      <td>2 BHK Apartment  In Kanakia Hollywood For Sale...</td>\n",
       "      <td>â¹3.4 Crores</td>\n",
       "      <td>â¹1.95 Lacs/Month</td>\n",
       "      <td>876 sqft</td>\n",
       "    </tr>\n",
       "    <tr>\n",
       "      <th>...</th>\n",
       "      <td>...</td>\n",
       "      <td>...</td>\n",
       "      <td>...</td>\n",
       "      <td>...</td>\n",
       "      <td>...</td>\n",
       "    </tr>\n",
       "    <tr>\n",
       "      <th>245</th>\n",
       "      <td>bandra_mumbai</td>\n",
       "      <td>1 RK Flat  In Nutan Nagar Society For Sale  In...</td>\n",
       "      <td>â¹90 Lacs</td>\n",
       "      <td>â¹51,583/Month</td>\n",
       "      <td>310 sqft</td>\n",
       "    </tr>\n",
       "    <tr>\n",
       "      <th>246</th>\n",
       "      <td>bandra_mumbai</td>\n",
       "      <td>1 BHK Flat  In Labbaik House For Sale  In Band...</td>\n",
       "      <td>â¹1.35 Crores</td>\n",
       "      <td>â¹77,374/Month</td>\n",
       "      <td>450 sqft</td>\n",
       "    </tr>\n",
       "    <tr>\n",
       "      <th>247</th>\n",
       "      <td>bandra_mumbai</td>\n",
       "      <td>2 BHK Apartment  In Sayba Residency  For Sale ...</td>\n",
       "      <td>â¹2.31 Crores</td>\n",
       "      <td>â¹1.32 Lacs/Month</td>\n",
       "      <td>700 sqft</td>\n",
       "    </tr>\n",
       "    <tr>\n",
       "      <th>248</th>\n",
       "      <td>bandra_mumbai</td>\n",
       "      <td>3 BHK Flat  In Sambhav Zest For Sale  In Bandr...</td>\n",
       "      <td>â¹6 Crores</td>\n",
       "      <td>â¹3.44 Lacs/Month</td>\n",
       "      <td>925 sqft</td>\n",
       "    </tr>\n",
       "    <tr>\n",
       "      <th>249</th>\n",
       "      <td>bandra_mumbai</td>\n",
       "      <td>1 BHK Flat  In Sterling Apartments, Andheri Ea...</td>\n",
       "      <td>â¹1.2 Crores</td>\n",
       "      <td>â¹68,777/Month</td>\n",
       "      <td>457 sqft</td>\n",
       "    </tr>\n",
       "  </tbody>\n",
       "</table>\n",
       "<p>250 rows × 5 columns</p>\n",
       "</div>"
      ],
      "text/plain": [
       "                Location                                          Flat Type  \\\n",
       "0    andheri_west_mumbai  3 BHK Apartment  In Royal Resort Tower For Sal...   \n",
       "1    andheri_west_mumbai  3 BHK Apartment  In Lashkaria Green Heights  F...   \n",
       "2    andheri_west_mumbai  2 BHK Flat  In Guinea Paradise For Sale  In An...   \n",
       "3    andheri_west_mumbai  3 BHK Apartment  In Indra Darshan For Sale  In...   \n",
       "4    andheri_west_mumbai  2 BHK Apartment  In Kanakia Hollywood For Sale...   \n",
       "..                   ...                                                ...   \n",
       "245        bandra_mumbai  1 RK Flat  In Nutan Nagar Society For Sale  In...   \n",
       "246        bandra_mumbai  1 BHK Flat  In Labbaik House For Sale  In Band...   \n",
       "247        bandra_mumbai  2 BHK Apartment  In Sayba Residency  For Sale ...   \n",
       "248        bandra_mumbai  3 BHK Flat  In Sambhav Zest For Sale  In Bandr...   \n",
       "249        bandra_mumbai  1 BHK Flat  In Sterling Apartments, Andheri Ea...   \n",
       "\n",
       "              Price                 EMI        Area  \n",
       "0     â¹4.1 Crores  â¹2.35 Lacs/Month  1,305 sqft  \n",
       "1       â¹3 Crores  â¹1.72 Lacs/Month  1,600 sqft  \n",
       "2     â¹2.5 Crores  â¹1.43 Lacs/Month    800 sqft  \n",
       "3    â¹3.75 Crores  â¹2.15 Lacs/Month  1,440 sqft  \n",
       "4     â¹3.4 Crores  â¹1.95 Lacs/Month    876 sqft  \n",
       "..              ...                 ...         ...  \n",
       "245      â¹90 Lacs     â¹51,583/Month    310 sqft  \n",
       "246  â¹1.35 Crores     â¹77,374/Month    450 sqft  \n",
       "247  â¹2.31 Crores  â¹1.32 Lacs/Month    700 sqft  \n",
       "248     â¹6 Crores  â¹3.44 Lacs/Month    925 sqft  \n",
       "249   â¹1.2 Crores     â¹68,777/Month    457 sqft  \n",
       "\n",
       "[250 rows x 5 columns]"
      ]
     },
     "execution_count": 7,
     "metadata": {},
     "output_type": "execute_result"
    }
   ],
   "source": [
    "df"
   ]
  },
  {
   "cell_type": "code",
   "execution_count": 8,
   "id": "cac9cd9c",
   "metadata": {},
   "outputs": [],
   "source": [
    "BHK=[]\n",
    "for i in Flat_Type:\n",
    "    BHK.append(i[0:5])\n",
    "# print(BHK)\n",
    "# len(BHK)"
   ]
  },
  {
   "cell_type": "code",
   "execution_count": 9,
   "id": "da94a13f",
   "metadata": {},
   "outputs": [],
   "source": [
    "df['BHK']=BHK"
   ]
  },
  {
   "cell_type": "code",
   "execution_count": 10,
   "id": "b7769036",
   "metadata": {},
   "outputs": [],
   "source": [
    "newdf=df.copy()"
   ]
  },
  {
   "cell_type": "code",
   "execution_count": 11,
   "id": "f2beea6a",
   "metadata": {},
   "outputs": [],
   "source": [
    "df_Final=newdf[(newdf['BHK']=='2 BHK') | (newdf['BHK']=='3 BHK')]\n"
   ]
  },
  {
   "cell_type": "code",
   "execution_count": 12,
   "id": "b4913f0f",
   "metadata": {},
   "outputs": [
    {
     "ename": "ValueError",
     "evalue": "Length mismatch: Expected 144 rows, received array of length 152",
     "output_type": "error",
     "traceback": [
      "\u001b[1;31m---------------------------------------------------------------------------\u001b[0m",
      "\u001b[1;31mValueError\u001b[0m                                Traceback (most recent call last)",
      "Cell \u001b[1;32mIn[12], line 1\u001b[0m\n\u001b[1;32m----> 1\u001b[0m \u001b[43mdf_Final\u001b[49m\u001b[38;5;241;43m.\u001b[39;49m\u001b[43mset_index\u001b[49m\u001b[43m(\u001b[49m\u001b[43mnp\u001b[49m\u001b[38;5;241;43m.\u001b[39;49m\u001b[43marange\u001b[49m\u001b[43m(\u001b[49m\u001b[38;5;241;43m1\u001b[39;49m\u001b[43m,\u001b[49m\u001b[38;5;241;43m153\u001b[39;49m\u001b[43m)\u001b[49m\u001b[43m,\u001b[49m\u001b[43minplace\u001b[49m\u001b[38;5;241;43m=\u001b[39;49m\u001b[38;5;28;43;01mTrue\u001b[39;49;00m\u001b[43m)\u001b[49m\n",
      "File \u001b[1;32m~\\AppData\\Local\\Programs\\Python\\Python311\\Lib\\site-packages\\pandas\\util\\_decorators.py:331\u001b[0m, in \u001b[0;36mdeprecate_nonkeyword_arguments.<locals>.decorate.<locals>.wrapper\u001b[1;34m(*args, **kwargs)\u001b[0m\n\u001b[0;32m    325\u001b[0m \u001b[38;5;28;01mif\u001b[39;00m \u001b[38;5;28mlen\u001b[39m(args) \u001b[38;5;241m>\u001b[39m num_allow_args:\n\u001b[0;32m    326\u001b[0m     warnings\u001b[38;5;241m.\u001b[39mwarn(\n\u001b[0;32m    327\u001b[0m         msg\u001b[38;5;241m.\u001b[39mformat(arguments\u001b[38;5;241m=\u001b[39m_format_argument_list(allow_args)),\n\u001b[0;32m    328\u001b[0m         \u001b[38;5;167;01mFutureWarning\u001b[39;00m,\n\u001b[0;32m    329\u001b[0m         stacklevel\u001b[38;5;241m=\u001b[39mfind_stack_level(),\n\u001b[0;32m    330\u001b[0m     )\n\u001b[1;32m--> 331\u001b[0m \u001b[38;5;28;01mreturn\u001b[39;00m \u001b[43mfunc\u001b[49m\u001b[43m(\u001b[49m\u001b[38;5;241;43m*\u001b[39;49m\u001b[43margs\u001b[49m\u001b[43m,\u001b[49m\u001b[43m \u001b[49m\u001b[38;5;241;43m*\u001b[39;49m\u001b[38;5;241;43m*\u001b[39;49m\u001b[43mkwargs\u001b[49m\u001b[43m)\u001b[49m\n",
      "File \u001b[1;32m~\\AppData\\Local\\Programs\\Python\\Python311\\Lib\\site-packages\\pandas\\core\\frame.py:6062\u001b[0m, in \u001b[0;36mDataFrame.set_index\u001b[1;34m(self, keys, drop, append, inplace, verify_integrity)\u001b[0m\n\u001b[0;32m   6057\u001b[0m             to_remove\u001b[38;5;241m.\u001b[39mappend(col)\n\u001b[0;32m   6059\u001b[0m     \u001b[38;5;28;01mif\u001b[39;00m \u001b[38;5;28mlen\u001b[39m(arrays[\u001b[38;5;241m-\u001b[39m\u001b[38;5;241m1\u001b[39m]) \u001b[38;5;241m!=\u001b[39m \u001b[38;5;28mlen\u001b[39m(\u001b[38;5;28mself\u001b[39m):\n\u001b[0;32m   6060\u001b[0m         \u001b[38;5;66;03m# check newest element against length of calling frame, since\u001b[39;00m\n\u001b[0;32m   6061\u001b[0m         \u001b[38;5;66;03m# ensure_index_from_sequences would not raise for append=False.\u001b[39;00m\n\u001b[1;32m-> 6062\u001b[0m         \u001b[38;5;28;01mraise\u001b[39;00m \u001b[38;5;167;01mValueError\u001b[39;00m(\n\u001b[0;32m   6063\u001b[0m             \u001b[38;5;124mf\u001b[39m\u001b[38;5;124m\"\u001b[39m\u001b[38;5;124mLength mismatch: Expected \u001b[39m\u001b[38;5;132;01m{\u001b[39;00m\u001b[38;5;28mlen\u001b[39m(\u001b[38;5;28mself\u001b[39m)\u001b[38;5;132;01m}\u001b[39;00m\u001b[38;5;124m rows, \u001b[39m\u001b[38;5;124m\"\u001b[39m\n\u001b[0;32m   6064\u001b[0m             \u001b[38;5;124mf\u001b[39m\u001b[38;5;124m\"\u001b[39m\u001b[38;5;124mreceived array of length \u001b[39m\u001b[38;5;132;01m{\u001b[39;00m\u001b[38;5;28mlen\u001b[39m(arrays[\u001b[38;5;241m-\u001b[39m\u001b[38;5;241m1\u001b[39m])\u001b[38;5;132;01m}\u001b[39;00m\u001b[38;5;124m\"\u001b[39m\n\u001b[0;32m   6065\u001b[0m         )\n\u001b[0;32m   6067\u001b[0m index \u001b[38;5;241m=\u001b[39m ensure_index_from_sequences(arrays, names)\n\u001b[0;32m   6069\u001b[0m \u001b[38;5;28;01mif\u001b[39;00m verify_integrity \u001b[38;5;129;01mand\u001b[39;00m \u001b[38;5;129;01mnot\u001b[39;00m index\u001b[38;5;241m.\u001b[39mis_unique:\n",
      "\u001b[1;31mValueError\u001b[0m: Length mismatch: Expected 144 rows, received array of length 152"
     ]
    }
   ],
   "source": [
    "df_Final.set_index(np.arange(1,153),inplace=True)"
   ]
  },
  {
   "cell_type": "code",
   "execution_count": null,
   "id": "156c31ff",
   "metadata": {},
   "outputs": [],
   "source": [
    "df_Final.drop('BHK',axis=1,inplace=True)"
   ]
  },
  {
   "cell_type": "code",
   "execution_count": null,
   "id": "8c970b9a",
   "metadata": {},
   "outputs": [],
   "source": [
    "df_Final"
   ]
  },
  {
   "cell_type": "code",
   "execution_count": null,
   "id": "80d8e908",
   "metadata": {},
   "outputs": [],
   "source": [
    "df_Final.to_excel('Mumbai.xlsx')"
   ]
  },
  {
   "cell_type": "code",
   "execution_count": null,
   "id": "ff37cedf",
   "metadata": {},
   "outputs": [],
   "source": [
    "df.to_excel(\"MumbaiDataAnal\")"
   ]
  },
  {
   "cell_type": "code",
   "execution_count": 8,
   "id": "0dbac789",
   "metadata": {},
   "outputs": [],
   "source": [
    "df.to_excel('Mumbaiwithloc.xlsx')"
   ]
  },
  {
   "cell_type": "code",
   "execution_count": null,
   "id": "df94e053",
   "metadata": {},
   "outputs": [],
   "source": []
  }
 ],
 "metadata": {
  "kernelspec": {
   "display_name": "Python 3 (ipykernel)",
   "language": "python",
   "name": "python3"
  },
  "language_info": {
   "codemirror_mode": {
    "name": "ipython",
    "version": 3
   },
   "file_extension": ".py",
   "mimetype": "text/x-python",
   "name": "python",
   "nbconvert_exporter": "python",
   "pygments_lexer": "ipython3",
   "version": "3.11.1"
  }
 },
 "nbformat": 4,
 "nbformat_minor": 5
}
