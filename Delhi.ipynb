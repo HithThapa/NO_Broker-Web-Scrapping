{
 "cells": [
  {
   "cell_type": "code",
   "execution_count": 1,
   "id": "1574c863",
   "metadata": {},
   "outputs": [],
   "source": [
    "import requests\n",
    "from bs4 import BeautifulSoup\n",
    "import pandas as pd\n",
    "import numpy as np"
   ]
  },
  {
   "cell_type": "code",
   "execution_count": 14,
   "id": "9358cadd",
   "metadata": {},
   "outputs": [],
   "source": [
    "Delhi=['vasant-vihar-delhi','safdarjung-enclave-delhi','hauz-khas-delhi',\n",
    "        'greater-kailash-delhi','connaught-place-delhi','gulmohar-park-delhi','green-park-extension-new-delhi-delhi',\n",
    "        'east-of-kailash-delhi','panchsheel-park-delhi','lajpat-nagar-i-delhi']"
   ]
  },
  {
   "cell_type": "code",
   "execution_count": 15,
   "id": "c1b9debe",
   "metadata": {},
   "outputs": [],
   "source": [
    "url=[]\n",
    "for i in Delhi:\n",
    "    url.append('https://www.nobroker.in/flats-for-sale-in-'+i)"
   ]
  },
  {
   "cell_type": "code",
   "execution_count": 42,
   "id": "978dc261",
   "metadata": {},
   "outputs": [],
   "source": [
    "Gname=[]\n",
    "Grate=[]\n",
    "Gemi=[]\n",
    "Garea=[]\n",
    "Glocation=[]\n",
    "for i in range(len(url)):\n",
    "    data=requests.get(url[i])\n",
    "    soup=BeautifulSoup(data.text,'html.parser')\n",
    "    locname=soup.find_all('a',class_='overflow-hidden overflow-ellipsis whitespace-nowrap max-w-80pe po:max-w-full')#name\n",
    "    locrate=soup.find_all('div','font-semi-bold heading-6')#rate\n",
    "    #Name\n",
    "    Name=[]                       \n",
    "    for j in locname:\n",
    "        Name.append(j.text)      \n",
    "    Gname.append(Name)\n",
    "    #Rate\n",
    "    rate=[]\n",
    "    lorate=[]\n",
    "    for j in locrate:\n",
    "        rate.append(j.text)\n",
    "    for j in range(0,len(rate),3):\n",
    "        lorate.append(rate[j])\n",
    "    Grate.append(lorate)\n",
    "    #EMI\n",
    "    EMI=[]\n",
    "    for j in range(1,len(rate),3):\n",
    "        EMI.append(rate[j])\n",
    "    Gemi.append(EMI)\n",
    "    #Area\n",
    "    area=[]\n",
    "    for j in range(2,len(rate),3):\n",
    "        area.append(rate[j])\n",
    "    Garea.append(area)\n",
    "    #Location\n",
    "    location=[]\n",
    "    for j in range(len(Name)):\n",
    "        location.append(Delhi[i])\n",
    "    Glocation.append(location)\n",
    "# len(Gname)\n",
    "# len(Grate)\n",
    "# len(Gemi)\n",
    "# len(Garea)"
   ]
  },
  {
   "cell_type": "code",
   "execution_count": 49,
   "id": "797747b6",
   "metadata": {},
   "outputs": [],
   "source": [
    "#BHK\n",
    "Flat_Type=[]\n",
    "for i in Gname:\n",
    "    for j in i:\n",
    "        Flat_Type.append(j)\n",
    "# print(Flat_Type)\n",
    "# Price\n",
    "Price=[]\n",
    "for i in Grate:\n",
    "    for j in i:\n",
    "        Price.append(j)\n",
    "# print(Price)\n",
    "# EMI\n",
    "Monthly_Installment=[]\n",
    "for i in Gemi:\n",
    "    for j in i:\n",
    "        Monthly_Installment.append(j)\n",
    "# print(Monthly_Installment)\n",
    "# Area\n",
    "Build_Area=[]\n",
    "for i in Garea:\n",
    "    for j in i:\n",
    "        Build_Area.append(j)\n",
    "# print(Build_Area)\n",
    "#Location\n",
    "Loc=[]\n",
    "for i in Glocation:\n",
    "    for j in i:\n",
    "        Loc.append(j)\n",
    "        "
   ]
  },
  {
   "cell_type": "code",
   "execution_count": 51,
   "id": "84f4b85a",
   "metadata": {},
   "outputs": [],
   "source": [
    "df=pd.DataFrame({'Location':Loc,'Flat Type':Flat_Type,'Price':Price,'EMI':Monthly_Installment,'Area':Build_Area})"
   ]
  },
  {
   "cell_type": "code",
   "execution_count": 52,
   "id": "e404947c",
   "metadata": {},
   "outputs": [
    {
     "data": {
      "text/html": [
       "<div>\n",
       "<style scoped>\n",
       "    .dataframe tbody tr th:only-of-type {\n",
       "        vertical-align: middle;\n",
       "    }\n",
       "\n",
       "    .dataframe tbody tr th {\n",
       "        vertical-align: top;\n",
       "    }\n",
       "\n",
       "    .dataframe thead th {\n",
       "        text-align: right;\n",
       "    }\n",
       "</style>\n",
       "<table border=\"1\" class=\"dataframe\">\n",
       "  <thead>\n",
       "    <tr style=\"text-align: right;\">\n",
       "      <th></th>\n",
       "      <th>Location</th>\n",
       "      <th>Flat Type</th>\n",
       "      <th>Price</th>\n",
       "      <th>EMI</th>\n",
       "      <th>Area</th>\n",
       "    </tr>\n",
       "  </thead>\n",
       "  <tbody>\n",
       "    <tr>\n",
       "      <th>0</th>\n",
       "      <td>vasant-vihar-delhi</td>\n",
       "      <td>1 BHK Flat  In Dda Janta Flats For Sale  In Va...</td>\n",
       "      <td>â¹50 Lacs</td>\n",
       "      <td>â¹28,657/Month</td>\n",
       "      <td>362 sqft</td>\n",
       "    </tr>\n",
       "    <tr>\n",
       "      <th>1</th>\n",
       "      <td>vasant-vihar-delhi</td>\n",
       "      <td>3 BHK Flat  In Apartment For Sale  In Vasant V...</td>\n",
       "      <td>â¹6.5 Crores</td>\n",
       "      <td>â¹3.73 Lacs/Month</td>\n",
       "      <td>1,800 sqft</td>\n",
       "    </tr>\n",
       "    <tr>\n",
       "      <th>2</th>\n",
       "      <td>vasant-vihar-delhi</td>\n",
       "      <td>3 BHK Flat  In Basanth Apartment  For Sale  In...</td>\n",
       "      <td>â¹1 Crore</td>\n",
       "      <td>â¹57,314/Month</td>\n",
       "      <td>1,200 sqft</td>\n",
       "    </tr>\n",
       "    <tr>\n",
       "      <th>3</th>\n",
       "      <td>vasant-vihar-delhi</td>\n",
       "      <td>2 BHK Flat  In Hill View For Sale  In Vasant V...</td>\n",
       "      <td>â¹2.1 Crores</td>\n",
       "      <td>â¹1.2 Lacs/Month</td>\n",
       "      <td>1,300 sqft</td>\n",
       "    </tr>\n",
       "    <tr>\n",
       "      <th>4</th>\n",
       "      <td>vasant-vihar-delhi</td>\n",
       "      <td>2 BHK Flat  In Dda Hill View Apartments, For S...</td>\n",
       "      <td>â¹3 Crores</td>\n",
       "      <td>â¹1.72 Lacs/Month</td>\n",
       "      <td>1,500 sqft</td>\n",
       "    </tr>\n",
       "    <tr>\n",
       "      <th>...</th>\n",
       "      <td>...</td>\n",
       "      <td>...</td>\n",
       "      <td>...</td>\n",
       "      <td>...</td>\n",
       "      <td>...</td>\n",
       "    </tr>\n",
       "    <tr>\n",
       "      <th>130</th>\n",
       "      <td>lajpat-nagar-i-delhi</td>\n",
       "      <td>2 BHK Flat  In Kapur House For Sale  In Lajpat...</td>\n",
       "      <td>â¹1.5 Crores</td>\n",
       "      <td>â¹85,971/Month</td>\n",
       "      <td>900 sqft</td>\n",
       "    </tr>\n",
       "    <tr>\n",
       "      <th>131</th>\n",
       "      <td>lajpat-nagar-i-delhi</td>\n",
       "      <td>2 BHK Flat  In Standalone Building  For Sale  ...</td>\n",
       "      <td>â¹92 Lacs</td>\n",
       "      <td>â¹52,729/Month</td>\n",
       "      <td>900 sqft</td>\n",
       "    </tr>\n",
       "    <tr>\n",
       "      <th>132</th>\n",
       "      <td>lajpat-nagar-i-delhi</td>\n",
       "      <td>2 BHK Flat  In B Block, Lajpat Nagar- 1, New D...</td>\n",
       "      <td>â¹1.2 Crores</td>\n",
       "      <td>â¹68,777/Month</td>\n",
       "      <td>900 sqft</td>\n",
       "    </tr>\n",
       "    <tr>\n",
       "      <th>133</th>\n",
       "      <td>lajpat-nagar-i-delhi</td>\n",
       "      <td>3 BHK Flat  In Standalone Building  For Sale  ...</td>\n",
       "      <td>â¹1.35 Crores</td>\n",
       "      <td>â¹77,374/Month</td>\n",
       "      <td>1,500 sqft</td>\n",
       "    </tr>\n",
       "    <tr>\n",
       "      <th>134</th>\n",
       "      <td>lajpat-nagar-i-delhi</td>\n",
       "      <td>2 BHK Flat  In Apartment  For Sale  In Lajpat ...</td>\n",
       "      <td>â¹85 Lacs</td>\n",
       "      <td>â¹48,717/Month</td>\n",
       "      <td>1,000 sqft</td>\n",
       "    </tr>\n",
       "  </tbody>\n",
       "</table>\n",
       "<p>135 rows × 5 columns</p>\n",
       "</div>"
      ],
      "text/plain": [
       "                 Location                                          Flat Type  \\\n",
       "0      vasant-vihar-delhi  1 BHK Flat  In Dda Janta Flats For Sale  In Va...   \n",
       "1      vasant-vihar-delhi  3 BHK Flat  In Apartment For Sale  In Vasant V...   \n",
       "2      vasant-vihar-delhi  3 BHK Flat  In Basanth Apartment  For Sale  In...   \n",
       "3      vasant-vihar-delhi  2 BHK Flat  In Hill View For Sale  In Vasant V...   \n",
       "4      vasant-vihar-delhi  2 BHK Flat  In Dda Hill View Apartments, For S...   \n",
       "..                    ...                                                ...   \n",
       "130  lajpat-nagar-i-delhi  2 BHK Flat  In Kapur House For Sale  In Lajpat...   \n",
       "131  lajpat-nagar-i-delhi  2 BHK Flat  In Standalone Building  For Sale  ...   \n",
       "132  lajpat-nagar-i-delhi  2 BHK Flat  In B Block, Lajpat Nagar- 1, New D...   \n",
       "133  lajpat-nagar-i-delhi  3 BHK Flat  In Standalone Building  For Sale  ...   \n",
       "134  lajpat-nagar-i-delhi  2 BHK Flat  In Apartment  For Sale  In Lajpat ...   \n",
       "\n",
       "              Price                 EMI        Area  \n",
       "0        â¹50 Lacs     â¹28,657/Month    362 sqft  \n",
       "1     â¹6.5 Crores  â¹3.73 Lacs/Month  1,800 sqft  \n",
       "2        â¹1 Crore     â¹57,314/Month  1,200 sqft  \n",
       "3     â¹2.1 Crores   â¹1.2 Lacs/Month  1,300 sqft  \n",
       "4       â¹3 Crores  â¹1.72 Lacs/Month  1,500 sqft  \n",
       "..              ...                 ...         ...  \n",
       "130   â¹1.5 Crores     â¹85,971/Month    900 sqft  \n",
       "131      â¹92 Lacs     â¹52,729/Month    900 sqft  \n",
       "132   â¹1.2 Crores     â¹68,777/Month    900 sqft  \n",
       "133  â¹1.35 Crores     â¹77,374/Month  1,500 sqft  \n",
       "134      â¹85 Lacs     â¹48,717/Month  1,000 sqft  \n",
       "\n",
       "[135 rows x 5 columns]"
      ]
     },
     "execution_count": 52,
     "metadata": {},
     "output_type": "execute_result"
    }
   ],
   "source": [
    "df"
   ]
  },
  {
   "cell_type": "code",
   "execution_count": 53,
   "id": "50ab7705",
   "metadata": {},
   "outputs": [],
   "source": [
    "BHK=[]\n",
    "for i in Flat_Type:\n",
    "    BHK.append(i[0:5])\n",
    "# print(BHK)\n",
    "# len(BHK)"
   ]
  },
  {
   "cell_type": "code",
   "execution_count": 54,
   "id": "a0310b0c",
   "metadata": {},
   "outputs": [],
   "source": [
    "df['BHK']=BHK"
   ]
  },
  {
   "cell_type": "code",
   "execution_count": 55,
   "id": "08e0f9d9",
   "metadata": {},
   "outputs": [],
   "source": [
    "newdf=df.copy()"
   ]
  },
  {
   "cell_type": "code",
   "execution_count": 56,
   "id": "d33112e2",
   "metadata": {},
   "outputs": [],
   "source": [
    "df_Final=newdf[(newdf['BHK']=='2 BHK') | (newdf['BHK']=='3 BHK')]\n"
   ]
  },
  {
   "cell_type": "code",
   "execution_count": null,
   "id": "ce908231",
   "metadata": {},
   "outputs": [],
   "source": [
    "df_Final.set_index(np.arange(1,101),inplace=True)"
   ]
  },
  {
   "cell_type": "code",
   "execution_count": null,
   "id": "f5f5f0a9",
   "metadata": {},
   "outputs": [],
   "source": [
    "df_Final.drop('BHK',axis=1,inplace=True)"
   ]
  },
  {
   "cell_type": "code",
   "execution_count": null,
   "id": "9535832c",
   "metadata": {},
   "outputs": [],
   "source": [
    "df_Final"
   ]
  },
  {
   "cell_type": "code",
   "execution_count": null,
   "id": "9747c810",
   "metadata": {},
   "outputs": [],
   "source": [
    "df_Final.to_excel('Delhi.xlsx')"
   ]
  },
  {
   "cell_type": "code",
   "execution_count": 57,
   "id": "317537af",
   "metadata": {},
   "outputs": [],
   "source": [
    "df.to_excel('Delhiwithloc.xlsx')"
   ]
  },
  {
   "cell_type": "code",
   "execution_count": null,
   "id": "58641370",
   "metadata": {},
   "outputs": [],
   "source": []
  }
 ],
 "metadata": {
  "kernelspec": {
   "display_name": "Python 3 (ipykernel)",
   "language": "python",
   "name": "python3"
  },
  "language_info": {
   "codemirror_mode": {
    "name": "ipython",
    "version": 3
   },
   "file_extension": ".py",
   "mimetype": "text/x-python",
   "name": "python",
   "nbconvert_exporter": "python",
   "pygments_lexer": "ipython3",
   "version": "3.11.1"
  }
 },
 "nbformat": 4,
 "nbformat_minor": 5
}
